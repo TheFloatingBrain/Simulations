{
 "cells": [
  {
   "cell_type": "code",
   "execution_count": 90,
   "metadata": {},
   "outputs": [],
   "source": [
    "import numpy as np\n",
    "import matplotlib.pyplot as plt\n",
    "\n",
    "def ParticleWithAirResistance( step, samples, gravitationalConstant, airResitance, mass,\n",
    "                              initialHeight, angle, initialVelocity ):\n",
    "    x = np.zeros( samples + 1 )\n",
    "    y = np.zeros( samples + 1 )\n",
    "    vx = np.zeros( samples + 1 )\n",
    "    vy = np.zeros( samples + 1 )\n",
    "    t = np.zeros( samples + 1 )\n",
    "    y[ 0 ] = initialHeight\n",
    "    vx[ 0 ] = initialVelocity * np.cos( angle )\n",
    "    vy[ 0 ] = initialVelocity * np.sin( angle )\n",
    "    for i in range( samples ):\n",
    "        x[ i + 1 ] = x[ i ] + vx[ i ] * step\n",
    "        vx[ i + 1 ] = vx[ i ] + ( - ( ( airResitance * vx[ i ] ) / mass ) ) * step\n",
    "        y[ i + 1 ] = y[ i ] + vy[ i ] * step\n",
    "        vy[ i + 1 ] = vy[ i ] + ( -gravitationalConstant - ( ( airResitance / mass ) * vy[ i ] ) ) * step\n",
    "        t[ i + 1 ] = t[ i ] + step\n",
    "    return t, x, y, vx, vy\n",
    "\n",
    "def ParticleWithoutAirResistance( step, samples, gravitationalConstant, initialHeight, angle, initialVelocity ):\n",
    "    x = np.zeros( samples + 1 )\n",
    "    y = np.zeros( samples + 1 )\n",
    "    vx = np.zeros( samples + 1 )\n",
    "    vy = np.zeros( samples + 1 )\n",
    "    t = np.zeros( samples + 1 )\n",
    "    y[ 0 ] = initialHeight\n",
    "    vx[ 0 ] = initialVelocity * np.cos( angle )\n",
    "    vy[ 0 ] = initialVelocity * np.sin( angle )\n",
    "    for i in range( samples ):\n",
    "        vx[ i + 1 ] = vx[ i ] + vx[ 0 ] * step\n",
    "        x[ i + 1 ] = x[ i ] + vx[ i ] * step\n",
    "        vy[ i + 1 ] = vy[ i ] + ( - gravitationalConstant ) * step\n",
    "        y[ i + 1 ] = y[ i ] + vy[ i ] * step\n",
    "        t[ i + 1 ] = t[ i ] + step\n",
    "    return t, x, y, vx, vy\n",
    "\n",
    "def CreateDataSets( step, samples, gravitationalConstant, airResitance, mass,\n",
    "                              initialHeight, angle, initialVelocity ):\n",
    "    output = []\n",
    "    output.append( ParticleWithoutAirResistance( step, samples, gravitationalConstant, initialHeight, angle, initialVelocity ) )\n",
    "    output.append( ParticleWithAirResistance( step, samples, gravitationalConstant, \n",
    "                                             airResitance, mass, initialHeight, angle, initialVelocity ) )\n",
    "    return output\n",
    "\n",
    "\n",
    "def PlotData( step, samples, gravitationalConstant, airResitance, mass,\n",
    "                              initialHeight, angle, initialVelocity ):\n",
    "    output = CreateDataSets( step, samples, gravitationalConstant, airResitance, mass, initialHeight, angle, initialVelocity )\n",
    "    plt.figure()\n",
    "    plt.plot( output[ 0 ][ 1 ][ 0:45 ], output[ 0 ][ 2 ][ 0:45 ] )\n",
    "    plt.plot( output[ 1 ][ 1 ][ 0:45 ], output[ 1 ][ 2 ][ 0:45 ] )\n",
    "    plt.plot( range( 5 ), np.zeros( 5 ) )\n",
    "    plt.show()\n"
   ]
  },
  {
   "cell_type": "code",
   "execution_count": 91,
   "metadata": {},
   "outputs": [
    {
     "data": {
      "image/png": "[encoded data removed]",
      "text/plain": [
       "<Figure size 432x288 with 1 Axes>"
      ]
     },
     "metadata": {},
     "output_type": "display_data"
    }
   ],
   "source": [
    "PlotData( .01, 1000, 9.8, 4, 10, 0, ( 20 * np.pi ) / 180.0, 6 )"
   ]
  },
  {
   "cell_type": "code",
   "execution_count": null,
   "metadata": {},
   "outputs": [],
   "source": []
  }
 ],
 "metadata": {
  "kernelspec": {
   "display_name": "Python 3",
   "language": "python",
   "name": "python3"
  },
  "language_info": {
   "codemirror_mode": {
    "name": "ipython",
    "version": 3
   },
   "file_extension": ".py",
   "mimetype": "text/x-python",
   "name": "python",
   "nbconvert_exporter": "python",
   "pygments_lexer": "ipython3",
   "version": "3.6.5"
  }
 },
 "nbformat": 4,
 "nbformat_minor": 2
}
