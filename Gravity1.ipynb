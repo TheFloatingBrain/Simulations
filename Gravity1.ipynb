{
 "cells": [
  {
   "cell_type": "code",
   "execution_count": 2,
   "metadata": {},
   "outputs": [],
   "source": [
    "import numpy as np\n",
    "import sys\n",
    "import copy\n",
    "import math\n",
    "import matplotlib.image as mpimg\n",
    "import matplotlib.pyplot as plt\n",
    "from threading import Thread\n",
    "from time import sleep\n",
    "import datetime"
   ]
  },
  {
   "cell_type": "code",
   "execution_count": 3,
   "metadata": {},
   "outputs": [],
   "source": [
    "np.set_printoptions( threshold = sys.maxsize )"
   ]
  },
  {
   "cell_type": "code",
   "execution_count": 4,
   "metadata": {},
   "outputs": [],
   "source": [
    "class Object2D:\n",
    "    def __init__( self, sizeX_, sizeY_, pattern_ ):\n",
    "        self.sizeX = sizeX_\n",
    "        self.sizeY = sizeY_\n",
    "        self.pattern = pattern_"
   ]
  },
  {
   "cell_type": "code",
   "execution_count": 5,
   "metadata": {},
   "outputs": [],
   "source": [
    "class Mesh( Object2D ):\n",
    "    def __init__( self, sizeX_, sizeY_, pattern_ ):\n",
    "        super().__init__( sizeX_, sizeY_, pattern_ )\n",
    "    def Copy( self ):\n",
    "        return Mesh( self.sizeX, self.sizeY, copy.deepcopy( self.pattern ) )\n",
    "    def Scale( self, xScale, yScale ):\n",
    "        return self\n",
    "    def AddMass( self, mass ):\n",
    "        for x in range( len( self.pattern ) ):\n",
    "            for y in range( len( x ) ):\n",
    "                self.pattern[ x ][ y ] *= mass\n",
    "        return self\n",
    "    def ToMass( self, x, y ):\n",
    "        return Mass( x, y, self )"
   ]
  },
  {
   "cell_type": "code",
   "execution_count": 6,
   "metadata": {},
   "outputs": [],
   "source": [
    "class Planet( Mesh ):\n",
    "    def __init__( self, radius_, distributedMass_, default_ = 0.0, ringDistance_ = 0.0, ringDepth_ = 0.0, increment = .01 ):\n",
    "        self.radius = radius_\n",
    "        self.ringDistance = ringDistance_\n",
    "        self.default = default_\n",
    "        self.ringDepth = ringDepth_\n",
    "        self.ModifyMass( distributedMass_ )\n",
    "        self.FillPlanet( self.radius, True, increment )\n",
    "    def ModifyMass( self, distributedMass_ ):\n",
    "        self.distributedMass = distributedMass_\n",
    "        self.mass = ( 2.0 * np.pi * ( self.radius * self.radius ) ) * self.distributedMass\n",
    "        return self\n",
    "    def ChangeRadius( self, radius_, fillRing, increment = .01, ):\n",
    "        self.FillPlanet( radius_, fillRing, increment )\n",
    "        return self\n",
    "    def FillPlanet( self, radius_, doFillRing = True, increment = .01, distributedMass_ = None ):\n",
    "        trueRadius = int( self.radius + self.ringDistance + self.ringDepth ) * 2\n",
    "        self.radius = radius_\n",
    "        self.sizeX = trueRadius\n",
    "        self.sizeY = trueRadius\n",
    "        planet = []\n",
    "        if distributedMass_ != None:\n",
    "            self.ModifyMass( distributedMass_ )\n",
    "        for i in range( self.sizeX ):\n",
    "            planet.append( [ self.default ] * self.sizeY )\n",
    "        for i in range( int( radius_ ) ):\n",
    "            currentRadius = radius_ - i\n",
    "            theta = 0.0\n",
    "            while theta <= ( 2.0 * np.pi ):\n",
    "                planet[ \n",
    "                    ( int( currentRadius ) - int( np.sin( theta ) * currentRadius ) ) + \n",
    "                    int( ( self.sizeX / 2.0 ) - ( currentRadius ) ) ][ int( currentRadius ) - \n",
    "                    int( np.cos( theta ) * currentRadius ) + \n",
    "                    int( ( self.sizeY / 2.0 ) - ( currentRadius ) ) ] = self.distributedMass\n",
    "                theta += increment\n",
    "        self.pattern = planet\n",
    "        if doFillRing == True:\n",
    "            self.FillRing( self.ringDistance, self.ringDepth, increment )\n",
    "        return self\n",
    "    \n",
    "    def FillRing( self, ringDistance_ = None, ringDepth_ = None, increment = .01, fillPlanet = False ):\n",
    "        if ringDistance_ == None:\n",
    "            ringDistance_ = self.ringDistance\n",
    "        else:\n",
    "            self.ringDistance = ringDistance_\n",
    "        if ringDepth_ == None:\n",
    "            ringDepth_ = self.ringDepth\n",
    "        else:\n",
    "            self.ringDepth = ringDepth_\n",
    "        trueRadius = int( self.radius + ringDistance_ + ringDepth_ ) * 2\n",
    "        for i in range( int( ringDepth_ ) ):\n",
    "            theta = 0.0\n",
    "            while theta <= ( 2.0 * np.pi ):\n",
    "                self.pattern[ \n",
    "                    ( int( i ) - int( np.sin( theta ) * ( ringDistance_ + self.radius + i ) ) ) + \n",
    "                    int( ( self.sizeX / 2.0 ) - ( i ) ) ][ int( i ) - \n",
    "                    int( np.cos( theta ) * ( ringDistance_ + self.radius + i ) ) + \n",
    "                    int( ( self.sizeY / 2.0 ) - ( i ) ) ] = self.distributedMass\n",
    "                theta += increment\n",
    "        return self"
   ]
  },
  {
   "cell_type": "code",
   "execution_count": 7,
   "metadata": {},
   "outputs": [],
   "source": [
    "class Mass( Object2D ):\n",
    "    def __init__( self, x_, y_, mesh, noDeepCopy = False ):\n",
    "        if noDeepCopy == False:\n",
    "            super().__init__( mesh.sizeX, mesh.sizeY, copy.deepcopy( mesh.pattern ) )\n",
    "        else:\n",
    "            super().__init__( mesh.sizeX, mesh.sizeY, mesh.pattern )\n",
    "        self.x = x_\n",
    "        self.y = y_\n",
    "    def ToMesh( self ):\n",
    "        return Mesh( self.sizeX, self.sizeY, copy.deepcopy( self.pattern ) )\n",
    "    def Copy( self ):\n",
    "        return Mass( self.x, self.y, self.ToMesh(), True )"
   ]
  },
  {
   "cell_type": "code",
   "execution_count": 8,
   "metadata": {},
   "outputs": [],
   "source": [
    "class GravitySimulationFeild:\n",
    "    def __init__( self, size, boundry_, default_ = 0, phi_ = [], masses_ = [] ):\n",
    "        self.phi = phi_\n",
    "        self.masses = masses_\n",
    "        self.boundry = boundry_\n",
    "        self.default = default_\n",
    "        if len( self.phi ) == 0:\n",
    "            self.CreatePhi( size ).CreateBoundry( self.boundry ).SetDefault( self.default )\n",
    "        self.size = size\n",
    "    def MakeObject( self, mesh, x, y ):\n",
    "        self.masses.append( mesh.ToMass( x, y ) )\n",
    "        return self\n",
    "    def AddMass( self, mass ):\n",
    "        self.masses.append( mass )\n",
    "        return self\n",
    "    def CreateZeros( self, size ):\n",
    "        return np.zeros( [ size + 1, size + 1 ] )        \n",
    "    def CreatePhi( self, size ):\n",
    "        self.phi = self.CreateZeros( size )\n",
    "        #Fluid A.P.I\n",
    "        return self\n",
    "    def CreateBoundry( self, boundry ):\n",
    "        size = len( self.phi ) - 1\n",
    "        for i in range( size ):\n",
    "            self.phi[ i ][ 0 ] = boundry\n",
    "            self.phi[ 0 ][ i ] = boundry\n",
    "            self.phi[ i ][ size ] = boundry\n",
    "            self.phi[ size ][ i ] = boundry\n",
    "        return self\n",
    "    def SetDefault( self, default ):\n",
    "        for i in range( 1, len( self.phi ) - 1 ):\n",
    "            for j in range( 1, len( self.phi[ i ] ) - 1 ):\n",
    "                self.phi[ i ][ j ] = default\n",
    "        return self\n",
    "    def AddMassesToFeild( self ):\n",
    "        massfulPhi = copy.deepcopy( self.phi )\n",
    "        for i in self.masses:\n",
    "            for x in range( i.sizeX ):\n",
    "                for y in range( i.sizeY ):\n",
    "                    massfulPhi[ i.x + x ][ i.y + y ] = i.pattern[ x ][ y ]\n",
    "        return GravitySimulationFeild( self.size, self.boundry, self.default, massfulPhi, copy.deepcopy( self.masses ) )\n",
    "    def Calculate( self, maximumExecutions, noDeepCopy = False, xStart = 1, yStart = 1, xEnd_ = None, yEnd_ = None ):\n",
    "        phiBase = self.phi\n",
    "        if xEnd_ == None:\n",
    "            xEnd_ = self.size\n",
    "            yEnd_ = self.size\n",
    "        if noDeepCopy == False:\n",
    "            phiBase = copy.deepcopy( self.phi )\n",
    "        phiCalculate = self.CreateZeros( self.size )\n",
    "        for execution in range( maximumExecutions ):\n",
    "            for x in range( xStart, xEnd_ ):\n",
    "                for y in range( yStart, yEnd_ ):\n",
    "                    phiCalculate[ x ][ y ] = .25 * ( phiBase[ x + 1 ][ y ] + phiBase[ x - 1 ][ y ] + phiBase[ x ][ y + 1 ] + phiBase[ x ][ y - 1 ] )\n",
    "            for i in range( xStart, xEnd_ ):\n",
    "                for j in range( yStart, yEnd_ ):\n",
    "                    phiBase[ i ][ j ] = phiCalculate[ i ][ j ]\n",
    "        return GravitySimulationFeild( self.size, self.boundry, self.default, phiBase, copy.deepcopy( self.masses ) )\n",
    "    def MultiThreadedCalculate( self, amountOfThreads, executionDepth ):\n",
    "        threadCopy = GravitySimulationFeild( self.size, self.boundry, self.default, copy.deepcopy( self.phi ), copy.deepcopy( self.masses ) )\n",
    "        segmentSize = threadCopy.size / amountOfThreads\n",
    "        threads = []\n",
    "        for i in range( amountOfThreads ):\n",
    "            threads.append( Thread( target = threadCopy.Calculate, args = ( executionDepth, True, int( i * segmentSize ), 1, int( ( i + 1 ) * segmentSize ), threadCopy.size ) ) )\n",
    "            threads[ -1 ].start()\n",
    "        for i in threads:\n",
    "            i.join()\n",
    "        return threadCopy"
   ]
  },
  {
   "cell_type": "code",
   "execution_count": 9,
   "metadata": {},
   "outputs": [],
   "source": [
    "g = GravitySimulationFeild( 200, -4.0, 3.0 )"
   ]
  },
  {
   "cell_type": "code",
   "execution_count": 10,
   "metadata": {},
   "outputs": [],
   "source": [
    "p0 = Planet( 4, 10.0, -50.0 )"
   ]
  },
  {
   "cell_type": "code",
   "execution_count": 11,
   "metadata": {},
   "outputs": [],
   "source": [
    "p1 = Planet( 5, 20.0, -30.0, 3, 1 )"
   ]
  },
  {
   "cell_type": "code",
   "execution_count": 12,
   "metadata": {},
   "outputs": [],
   "source": [
    "p2 = Planet( 2, 50.0, -10.0, 4, 1 )"
   ]
  },
  {
   "cell_type": "code",
   "execution_count": 13,
   "metadata": {},
   "outputs": [
    {
     "data": {
      "text/plain": [
       "<matplotlib.image.AxesImage at 0x2098d30e208>"
      ]
     },
     "execution_count": 13,
     "metadata": {},
     "output_type": "execute_result"
    },
    {
     "data": {
      "image/png": "[encoded data removed]",
      "text/plain": [
       "<Figure size 432x288 with 1 Axes>"
      ]
     },
     "metadata": {},
     "output_type": "display_data"
    }
   ],
   "source": [
    "plt.imshow( g.MultiThreadedCalculate( 4, 100 ).phi )"
   ]
  },
  {
   "cell_type": "code",
   "execution_count": 14,
   "metadata": {},
   "outputs": [
    {
     "data": {
      "text/plain": [
       "<matplotlib.image.AxesImage at 0x2098d3a1b38>"
      ]
     },
     "execution_count": 14,
     "metadata": {},
     "output_type": "execute_result"
    },
    {
     "data": {
      "image/png": "[encoded data removed]",
      "text/plain": [
       "<Figure size 432x288 with 1 Axes>"
      ]
     },
     "metadata": {},
     "output_type": "display_data"
    }
   ],
   "source": [
    "plt.imshow( p0.pattern )"
   ]
  },
  {
   "cell_type": "code",
   "execution_count": 15,
   "metadata": {},
   "outputs": [
    {
     "data": {
      "text/plain": [
       "<matplotlib.image.AxesImage at 0x2098d3ffc50>"
      ]
     },
     "execution_count": 15,
     "metadata": {},
     "output_type": "execute_result"
    },
    {
     "data": {
      "image/png": "[encoded data removed]",
      "text/plain": [
       "<Figure size 432x288 with 1 Axes>"
      ]
     },
     "metadata": {},
     "output_type": "display_data"
    }
   ],
   "source": [
    "plt.imshow( p1.pattern )"
   ]
  },
  {
   "cell_type": "code",
   "execution_count": 16,
   "metadata": {},
   "outputs": [
    {
     "data": {
      "text/plain": [
       "<matplotlib.image.AxesImage at 0x2098d459da0>"
      ]
     },
     "execution_count": 16,
     "metadata": {},
     "output_type": "execute_result"
    },
    {
     "data": {
      "image/png": "[encoded data removed]",
      "text/plain": [
       "<Figure size 432x288 with 1 Axes>"
      ]
     },
     "metadata": {},
     "output_type": "display_data"
    }
   ],
   "source": [
    "plt.imshow( p2.pattern )"
   ]
  },
  {
   "cell_type": "code",
   "execution_count": null,
   "metadata": {},
   "outputs": [],
   "source": []
  },
  {
   "cell_type": "code",
   "execution_count": 17,
   "metadata": {},
   "outputs": [
    {
     "data": {
      "text/plain": [
       "<__main__.GravitySimulationFeild at 0x2098b2ae588>"
      ]
     },
     "execution_count": 17,
     "metadata": {},
     "output_type": "execute_result"
    }
   ],
   "source": [
    "g.AddMass( p0.ToMass( 150, 50 ) ).AddMass( p1.ToMass( 100, 100 ) ).AddMass( p2.ToMass( 15, 120 ) )"
   ]
  },
  {
   "cell_type": "code",
   "execution_count": 18,
   "metadata": {},
   "outputs": [],
   "source": [
    "g0 = g.AddMassesToFeild()"
   ]
  },
  {
   "cell_type": "code",
   "execution_count": 19,
   "metadata": {},
   "outputs": [
    {
     "data": {
      "text/plain": [
       "<matplotlib.image.AxesImage at 0x2098d4beb38>"
      ]
     },
     "execution_count": 19,
     "metadata": {},
     "output_type": "execute_result"
    },
    {
     "data": {
      "image/png": "[encoded data removed]",
      "text/plain": [
       "<Figure size 432x288 with 1 Axes>"
      ]
     },
     "metadata": {},
     "output_type": "display_data"
    }
   ],
   "source": [
    "plt.imshow( g0.phi )"
   ]
  },
  {
   "cell_type": "code",
   "execution_count": 28,
   "metadata": {},
   "outputs": [],
   "source": [
    "g1 = g.AddMassesToFeild().MultiThreadedCalculate( 4, 100 )"
   ]
  },
  {
   "cell_type": "code",
   "execution_count": 29,
   "metadata": {},
   "outputs": [
    {
     "data": {
      "text/plain": [
       "<matplotlib.image.AxesImage at 0x2098d697390>"
      ]
     },
     "execution_count": 29,
     "metadata": {},
     "output_type": "execute_result"
    },
    {
     "data": {
      "image/png": "[encoded data removed]",
      "text/plain": [
       "<Figure size 432x288 with 1 Axes>"
      ]
     },
     "metadata": {},
     "output_type": "display_data"
    }
   ],
   "source": [
    "plt.imshow( g1.phi )"
   ]
  },
  {
   "cell_type": "code",
   "execution_count": null,
   "metadata": {},
   "outputs": [],
   "source": []
  },
  {
   "cell_type": "code",
   "execution_count": null,
   "metadata": {},
   "outputs": [],
   "source": []
  }
 ],
 "metadata": {
  "kernelspec": {
   "display_name": "Python 3",
   "language": "python",
   "name": "python3"
  },
  "language_info": {
   "codemirror_mode": {
    "name": "ipython",
    "version": 3
   },
   "file_extension": ".py",
   "mimetype": "text/x-python",
   "name": "python",
   "nbconvert_exporter": "python",
   "pygments_lexer": "ipython3",
   "version": "3.6.5"
  }
 },
 "nbformat": 4,
 "nbformat_minor": 2
}
