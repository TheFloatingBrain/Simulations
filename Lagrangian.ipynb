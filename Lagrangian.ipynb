{
 "cells": [
  {
   "cell_type": "code",
   "execution_count": 1,
   "metadata": {},
   "outputs": [],
   "source": [
    "#Rungie Kutta that is totally typed out that at least runs.\n",
    "#\n",
    "import numpy as np\n",
    "\n",
    "import matplotlib as mpl\n",
    "from mpl_toolkits.mplot3d import Axes3D\n",
    "import matplotlib.pyplot as plt\n",
    "import scipy.constants as sci\n",
    "import math"
   ]
  },
  {
   "cell_type": "code",
   "execution_count": 2,
   "metadata": {},
   "outputs": [],
   "source": [
    "def Truncate( number, digits = 2 ):\n",
    "    #radixPosition = str( number ).find( '.' )\n",
    "    #exponentialPosition = str( number ).find( 'e' )\n",
    "    #if radixPosition != ( -1 ):\n",
    "    #    numberBuffer = str( number )[ 0 : radixPosition + digits ]\n",
    "    #    #print( numberBuffer )\n",
    "    #    if exponentialPosition != ( -1 ):\n",
    "    #        numberBuffer += str( number )[ exponentialPosition : ]\n",
    "    #    number = np.float64( numberBuffer )\n",
    "    #if number == 0.0:\n",
    "    #    number = .1\n",
    "    #try:\n",
    "    #    number = np.float64( int( number ) )\n",
    "    #except:\n",
    "    #    number = 1.0\n",
    "    #print( number )\n",
    "    return number"
   ]
  },
  {
   "cell_type": "code",
   "execution_count": 18,
   "metadata": {},
   "outputs": [],
   "source": [
    "\n",
    "def LengthVelocity( previousLengthVelocity ):\n",
    "    return Truncate( previousLengthVelocity )\n",
    "\n",
    "def AngleVelocity( previousAngleVelocity ):\n",
    "    return Truncate( previousAngleVelocity )\n",
    "\n",
    "def LengthAcceleration( length, angle, angleVelocity, springConstant, mass, gravity, initialLength ):\n",
    "    return Truncate( length ) * Truncate( angleVelocity ) ** 2 - Truncate( springConstant / mass ) * ( Truncate( length ) - Truncate( initialLength ) ) + ( Truncate( gravity ) * Truncate( np.cos( Truncate( angle ) ) ) )\n",
    "\n",
    "def AngleAcceleration( length, angle, lengthVelocity, angleVelocity, gravity ):\n",
    "    return ( ( -gravity ) / Truncate( length ) ) * Truncate( np.sin( Truncate( angle ) ) ) - ( 2.0 / Truncate( length ) ) * Truncate( lengthVelocity ) * Truncate( angleVelocity )\n",
    "\n",
    "def Spring( step, timeEnd, mass = .04, springConstant = 100, initialLength = .3, initialAngle = .4, initialLengthVelocity = 0.0, initialAngleVelocity = 0.0 ):\n",
    "    time = 0\n",
    "    lengthZero = 0.2\n",
    "    gravity = 9.8\n",
    "    cells = int( np.ceil( timeEnd / step ) )\n",
    "    length = np.zeros( cells + 1, dtype = np.longfloat )\n",
    "    angle = np.zeros( cells + 1, dtype = np.longfloat )\n",
    "    lengthVelocity = np.zeros( cells + 1, dtype = np.longfloat )\n",
    "    angleVelocity = np.zeros( cells + 1, dtype = np.longfloat )\n",
    "    time = np.zeros( cells + 1, dtype = np.longfloat )\n",
    "    x = np.zeros( cells + 1, dtype = np.longfloat )\n",
    "    y = np.zeros( cells + 1, dtype = np.longfloat )\n",
    "    length[ 0 ] = initialLength\n",
    "    angle[ 0 ] = initialAngle\n",
    "    lengthVelocity[ 0 ] = initialLengthVelocity\n",
    "    angleVelocity[ 0 ] = initialAngleVelocity\n",
    "    x[ 0 ] = length[ 0 ] * np.sin( angle[ 0 ] )\n",
    "    y[ 0 ] = 1.0 - length[ 0 ] * np.cos( angle[ 0 ] )\n",
    "    for i in range( cells ):\n",
    "        #print( '<k1>' )\n",
    "        k1Length = Truncate( step * LengthVelocity( lengthVelocity[ i ] ) )\n",
    "        k1Angle = Truncate( step * AngleVelocity( angleVelocity[ i ] ) )\n",
    "        k1LengthVelocity = Truncate( step * LengthAcceleration( length[ i ], angle[ i ], angleVelocity[ i ], springConstant, mass, gravity, initialLength ) )\n",
    "        k1AngleVelocity = Truncate( step * AngleAcceleration( length[ i ], angle[ i ], lengthVelocity[ i ], angleVelocity[ i ], gravity ) )\n",
    "        #print( '</k1>' )\n",
    "        #########################################\n",
    "        #print( '<k2>' )\n",
    "        k2Length = Truncate( step * LengthVelocity( lengthVelocity[ i ] + k1Length / 2.0 ) )\n",
    "        k2Angle = Truncate( step * AngleVelocity( angleVelocity[ i ] + k1AngleVelocity  / 2.0 ) )\n",
    "        k2LengthVelocity = Truncate( step * LengthAcceleration( ( length[ i ] + k1LengthVelocity ) / 2.0, ( angle[ i ] + k1AngleVelocity ) / 2.0, ( angleVelocity[ i ] ), springConstant, mass, gravity, initialLength ) )\n",
    "        k2AngleVelocity = Truncate( step * AngleAcceleration( ( length[ i ] + k1LengthVelocity ) / 2.0, ( angle[ i ] + k1AngleVelocity ) / 2.0, ( lengthVelocity[ i ] ), ( angleVelocity[ i ] ), gravity ) )\n",
    "        #print( '</k2>' )\n",
    "        #########################################\n",
    "        #print( '<k3>' )\n",
    "        k3Length = Truncate( step * LengthVelocity( lengthVelocity[ i ] + k2Length / 2.0 ) )\n",
    "        k3Angle = Truncate( step * AngleVelocity( angleVelocity[ i ] + k2AngleVelocity / 2.0 ) )\n",
    "        k3LengthVelocity = Truncate( step * LengthAcceleration( ( length[ i ] + k2LengthVelocity ) / 2.0, ( angle[ i ] + k2AngleVelocity ) / 2.0, ( angleVelocity[ i ] ), springConstant, mass, gravity, initialLength ) )\n",
    "        k3AngleVelocity = Truncate( step * AngleAcceleration( ( length[ i ] + k2LengthVelocity ) / 2.0, ( angle[ i ] + k2AngleVelocity ) / 2.0, ( lengthVelocity[ i ] ), ( angleVelocity[ i ] ), gravity ) )\n",
    "        #print( '</k3>' )\n",
    "        #########################################\n",
    "        #print( '<k4>' )\n",
    "        k4Length = Truncate( step * LengthVelocity( lengthVelocity[ i ] + k3Length ) )\n",
    "        k4Angle = Truncate( step * AngleVelocity( angleVelocity[ i ] + k3AngleVelocity ) )\n",
    "        k4LengthVelocity = Truncate( step * LengthAcceleration( length[ i ] + k3LengthVelocity, angle[ i ] + k3AngleVelocity, angleVelocity[ i ], springConstant, mass, gravity, initialLength ) )\n",
    "        k4AngleVelocity = Truncate( step * AngleAcceleration( length[ i ] + k3LengthVelocity, angle[ i ] + k3AngleVelocity, lengthVelocity[ i ], angleVelocity[ i ], gravity ) )\n",
    "        #print( '</k4>' )\n",
    "        #########################################\n",
    "        #print( '<taylor>' )\n",
    "        length[ i + 1 ] = Truncate( ( length[ i ] + ( k1Length + 2.0 * ( k2Length + k3Length ) + k4Length ) / 6.0 ) )\n",
    "        angle[ i + 1 ] = Truncate( ( ( angle[ i ] + ( k1Angle + 2.0 * ( k2Angle + k3Angle ) + k4Angle ) / 6.0 ) ) )\n",
    "        lengthVelocity[ i + 1 ] = Truncate( lengthVelocity[ i ] + ( k1LengthVelocity + 2.0 * ( k2LengthVelocity + k3LengthVelocity ) + k4LengthVelocity ) / 6.0 )\n",
    "        angleVelocity[ i + 1 ] = Truncate( angleVelocity[ i ] + ( k1AngleVelocity + 2.0 * ( k2AngleVelocity + k3AngleVelocity ) + k4AngleVelocity ) / 6.0 )\n",
    "        #print( '</taylor>' )\n",
    "        #########################################\n",
    "        #print( '<xyt>' )\n",
    "        x[ i + 1 ] = Truncate( length[ i + 1 ] * np.sin( angle[ i + 1 ] ) )\n",
    "        y[ i + 1 ] = Truncate( 1.0 - length[ i + 1 ] * np.cos( angle[ i + 1 ] ) )\n",
    "        time[ i + 1 ] = step + time[ i ]\n",
    "        #print( '</xyt>' )\n",
    "    fig = plt.figure()\n",
    "    ax = fig.gca( projection = '3d' )\n",
    "    plt.plot( x, y, time )\n",
    "    plt.show()\n"
   ]
  },
  {
   "cell_type": "code",
   "execution_count": null,
   "metadata": {},
   "outputs": [],
   "source": []
  },
  {
   "cell_type": "code",
   "execution_count": null,
   "metadata": {},
   "outputs": [],
   "source": []
  },
  {
   "cell_type": "code",
   "execution_count": null,
   "metadata": {},
   "outputs": [],
   "source": []
  },
  {
   "cell_type": "code",
   "execution_count": null,
   "metadata": {},
   "outputs": [],
   "source": []
  },
  {
   "cell_type": "code",
   "execution_count": 20,
   "metadata": {},
   "outputs": [
    {
     "name": "stderr",
     "output_type": "stream",
     "text": [
      "C:\\Program Files (x86)\\Microsoft Visual Studio\\Shared\\Anaconda3_64\\lib\\site-packages\\ipykernel_launcher.py:9: RuntimeWarning: overflow encountered in double_scalars\n",
      "  if __name__ == '__main__':\n",
      "C:\\Program Files (x86)\\Microsoft Visual Studio\\Shared\\Anaconda3_64\\lib\\site-packages\\ipykernel_launcher.py:9: RuntimeWarning: invalid value encountered in double_scalars\n",
      "  if __name__ == '__main__':\n"
     ]
    },
    {
     "data": {
      "image/png": "[encoded data removed]",
      "text/plain": [
       "<Figure size 432x288 with 1 Axes>"
      ]
     },
     "metadata": {},
     "output_type": "display_data"
    }
   ],
   "source": [
    "Spring( 1, 1000 )#, 4, 100, 3, 4, 1.0, 2.0 )"
   ]
  },
  {
   "cell_type": "markdown",
   "metadata": {},
   "source": [
    "Hey,\n",
    "\n",
    "I've been looking at a lot of folk's Runge-Kutta codes. The most common mistake is to do something wrong with the k's . . . to add the wrong one.\n",
    "\n",
    "Lot of people are doing this\n",
    "\n",
    "k1L = h * Ldot(vLvec[i]); -- which is fine\n",
    "\n",
    "k1vL = h * vLdot(stuff) - also fine \n",
    "\n",
    "k2L = h * vLdot(vLvec[i] + k1L/2.0) -- which is not fine . . . see you added k1L/2.0 and should have added k1vL/2.0 . . . \n",
    "\n",
    "Same thing with the other functions - make sure that you are adding the right k.\n",
    "\n",
    "Also - note that in Runge-Kutta, the k4's take the full k3\n",
    "\n",
    "k4L = h * Ldot(vLvec[i] + k3vL) - is correct . . . dividing by 2.0 on the k3vL is not correct.\n",
    "\n",
    "For the most part, I got people's code to work if I fixed all the mistakes of this type.\n",
    "\n",
    "tpk"
   ]
  },
  {
   "cell_type": "code",
   "execution_count": null,
   "metadata": {},
   "outputs": [],
   "source": []
  },
  {
   "cell_type": "code",
   "execution_count": null,
   "metadata": {},
   "outputs": [],
   "source": []
  },
  {
   "cell_type": "code",
   "execution_count": null,
   "metadata": {},
   "outputs": [],
   "source": []
  },
  {
   "cell_type": "code",
   "execution_count": null,
   "metadata": {},
   "outputs": [],
   "source": []
  },
  {
   "cell_type": "code",
   "execution_count": 29,
   "metadata": {},
   "outputs": [],
   "source": [
    "#Old Code\n",
    "\n",
    "def LengthVelocity( previousLengthVelocity ):\n",
    "    return Truncate( previousLengthVelocity )\n",
    "\n",
    "def AngleVelocity( previousAngleVelocity ):\n",
    "    return Truncate( previousAngleVelocity )\n",
    "\n",
    "def LengthAcceleration( length, angle, angleVelocity, springConstant, mass, gravity, initialLength ):\n",
    "    return Truncate( length ) * Truncate( angleVelocity ) ** 2 - Truncate( springConstant / mass ) * ( Truncate( length ) - Truncate( initialLength ) ) + ( Truncate( gravity ) * Truncate( np.cos( Truncate( angle ) ) ) )\n",
    "\n",
    "def AngleAcceleration( length, angle, lengthVelocity, angleVelocity, gravity ):\n",
    "    return ( ( -gravity ) / Truncate( length ) ) * Truncate( np.sin( Truncate( angle ) ) ) - ( 2.0 / Truncate( length ) ) * Truncate( lengthVelocity ) * Truncate( angleVelocity )\n",
    "\n",
    "def Spring( step, timeEnd, mass = .04, springConstant = 100, initialLength = .3, initialAngle = .4, initialLengthVelocity = 0.0, initialAngleVelocity = 0.0 ):\n",
    "    time = 0\n",
    "    lengthZero = 0.2\n",
    "    gravity = 9.8\n",
    "    cells = int( np.ceil( timeEnd / step ) )\n",
    "    length = np.zeros( cells + 1, dtype = np.longfloat )\n",
    "    angle = np.zeros( cells + 1, dtype = np.longfloat )\n",
    "    lengthVelocity = np.zeros( cells + 1, dtype = np.longfloat )\n",
    "    angleVelocity = np.zeros( cells + 1, dtype = np.longfloat )\n",
    "    time = np.zeros( cells + 1, dtype = np.longfloat )\n",
    "    x = np.zeros( cells + 1, dtype = np.longfloat )\n",
    "    y = np.zeros( cells + 1, dtype = np.longfloat )\n",
    "    length[ 0 ] = initialLength\n",
    "    angle[ 0 ] = initialAngle\n",
    "    lengthVelocity[ 0 ] = initialLengthVelocity\n",
    "    angleVelocity[ 0 ] = initialAngleVelocity\n",
    "    x[ 0 ] = length[ 0 ] * np.sin( angle[ 0 ] )\n",
    "    y[ 0 ] = 1.0 - length[ 0 ] * np.cos( angle[ 0 ] )\n",
    "    for i in range( cells ):\n",
    "        #print( '<k1>' )\n",
    "        k1Length = Truncate( step * LengthVelocity( lengthVelocity[ i ] ) )\n",
    "        k1Angle = Truncate( step * AngleVelocity( angleVelocity[ i ] ) % 360.0 )\n",
    "        k1LengthVelocity = Truncate( step * LengthAcceleration( length[ i ], angle[ i ], angleVelocity[ i ], springConstant, mass, gravity, initialLength ) )\n",
    "        k1AngleVelocity = Truncate( step * AngleAcceleration( length[ i ], angle[ i ], lengthVelocity[ i ], angleVelocity[ i ], gravity ) )\n",
    "        #print( '</k1>' )\n",
    "        #########################################\n",
    "        #print( '<k2>' )\n",
    "        k2Length = Truncate( step * LengthVelocity( lengthVelocity[ i ] + k1Length / 2.0 ) )\n",
    "        k2Angle = Truncate( step * AngleVelocity( angleVelocity[ i ] + k1AngleVelocity  / 2.0 ) % 360.0 )\n",
    "        k2LengthVelocity = Truncate( step * LengthAcceleration( length[ i ] + k1LengthVelocity / 2.0, angle[ i ] + k1AngleVelocity / 2.0, angleVelocity[ i ] + k1AngleVelocity / 2.0, springConstant, mass, gravity, initialLength ) )\n",
    "        k2AngleVelocity = Truncate( step * AngleAcceleration( length[ i ] + k1LengthVelocity / 2.0, angle[ i ] + k1AngleVelocity / 2.0, lengthVelocity[ i ] + k1LengthVelocity / 2.0, angleVelocity[ i ] + k1AngleVelocity / 2.0, gravity ) )\n",
    "        #print( '</k2>' )\n",
    "        #########################################\n",
    "        #print( '<k3>' )\n",
    "        k3Length = Truncate( step * LengthVelocity( lengthVelocity[ i ] + k2Length / 2.0 ) )\n",
    "        k3Angle = Truncate( step * AngleVelocity( angleVelocity[ i ] + k2AngleVelocity / 2.0 ) % 360.0 )\n",
    "        k3LengthVelocity = Truncate( step * LengthAcceleration( length[ i ] + k2LengthVelocity / 2.0, angle[ i ] + k2AngleVelocity / 2.0, angleVelocity[ i ] + k2AngleVelocity / 2.0, springConstant, mass, gravity, initialLength ) )\n",
    "        k3AngleVelocity = Truncate( step * AngleAcceleration( length[ i ] + k2LengthVelocity / 2.0, angle[ i ] + k2AngleVelocity / 2.0, lengthVelocity[ i ] + k2LengthVelocity / 2.0, angleVelocity[ i ] + k2AngleVelocity / 2.0, gravity ) )\n",
    "        #print( '</k3>' )\n",
    "        #########################################\n",
    "        #print( '<k4>' )\n",
    "        k4Length = Truncate( step * LengthVelocity( lengthVelocity[ i ] + k3Length ) )\n",
    "        k4Angle = Truncate( step * AngleVelocity( angleVelocity[ i ] + k3AngleVelocity ) % 360.0 )\n",
    "        k4LengthVelocity = Truncate( step * LengthAcceleration( length[ i ] + k3LengthVelocity, angle[ i ] + k3AngleVelocity, angleVelocity[ i ] + k1AngleVelocity, springConstant, mass, gravity, initialLength ) )\n",
    "        k4AngleVelocity = Truncate( step * AngleAcceleration( length[ i ] + k3LengthVelocity, angle[ i ] + k3AngleVelocity, lengthVelocity[ i ] + k3LengthVelocity, angleVelocity[ i ] + k3AngleVelocity, gravity ) )\n",
    "        #print( '</k4>' )\n",
    "        #########################################\n",
    "        #print( '<taylor>' )\n",
    "        length[ i + 1 ] = Truncate( ( length[ i ] + ( k1Length + 2.0 * ( k2Length + k3Length ) + k4Length ) / 6.0 ) )\n",
    "        angle[ i + 1 ] = Truncate( ( ( angle[ i ] + ( k1Angle + 2.0 * ( k2Angle + k3Angle ) + k4Angle ) / 6.0 ) % 360.0 ) )\n",
    "        lengthVelocity[ i + 1 ] = Truncate( lengthVelocity[ i ] + ( k1LengthVelocity + 2.0 * ( k2LengthVelocity + k3LengthVelocity ) + k4LengthVelocity ) / 6.0 )\n",
    "        angleVelocity[ i + 1 ] = Truncate( angleVelocity[ i ] + ( k1AngleVelocity + 2.0 * ( k2AngleVelocity + k3AngleVelocity ) + k4AngleVelocity ) / 6.0 )\n",
    "        #print( '</taylor>' )\n",
    "        #########################################\n",
    "        #print( '<xyt>' )\n",
    "        x[ i + 1 ] = Truncate( length[ i + 1 ] * np.sin( angle[ i + 1 ] ) )\n",
    "        y[ i + 1 ] = Truncate( 1.0 - length[ i + 1 ] * np.cos( angle[ i + 1 ] ) )\n",
    "        time[ i + 1 ] = step + time[ i ]\n",
    "        #print( '</xyt>' )\n",
    "    fig = plt.figure()\n",
    "    ax = fig.gca( projection = '3d' )\n",
    "    plt.plot( x, y, time )\n",
    "    plt.show()\n"
   ]
  },
  {
   "cell_type": "code",
   "execution_count": 30,
   "metadata": {},
   "outputs": [
    {
     "name": "stderr",
     "output_type": "stream",
     "text": [
      "C:\\Program Files (x86)\\Microsoft Visual Studio\\Shared\\Anaconda3_64\\lib\\site-packages\\ipykernel_launcher.py:13: RuntimeWarning: divide by zero encountered in double_scalars\n",
      "  del sys.path[0]\n",
      "C:\\Program Files (x86)\\Microsoft Visual Studio\\Shared\\Anaconda3_64\\lib\\site-packages\\ipykernel_launcher.py:13: RuntimeWarning: invalid value encountered in double_scalars\n",
      "  del sys.path[0]\n"
     ]
    },
    {
     "ename": "ValueError",
     "evalue": "cannot convert float NaN to integer",
     "output_type": "error",
     "traceback": [
      "\u001b[1;31m---------------------------------------------------------------------------\u001b[0m",
      "\u001b[1;31mValueError\u001b[0m                                Traceback (most recent call last)",
      "\u001b[1;32m<ipython-input-30-9755af4b081c>\u001b[0m in \u001b[0;36m<module>\u001b[1;34m()\u001b[0m\n\u001b[1;32m----> 1\u001b[1;33m \u001b[0mSpring\u001b[0m\u001b[1;33m(\u001b[0m \u001b[1;36m1\u001b[0m\u001b[1;33m,\u001b[0m \u001b[1;36m1000\u001b[0m \u001b[1;33m)\u001b[0m\u001b[1;33m\u001b[0m\u001b[0m\n\u001b[0m",
      "\u001b[1;32m<ipython-input-29-ed5a80d42c9a>\u001b[0m in \u001b[0;36mSpring\u001b[1;34m(step, timeEnd, mass, springConstant, initialLength, initialAngle, initialLengthVelocity, initialAngleVelocity)\u001b[0m\n\u001b[0;32m     36\u001b[0m         \u001b[0mk1Angle\u001b[0m \u001b[1;33m=\u001b[0m \u001b[0mTruncate\u001b[0m\u001b[1;33m(\u001b[0m \u001b[0mstep\u001b[0m \u001b[1;33m*\u001b[0m \u001b[0mAngleVelocity\u001b[0m\u001b[1;33m(\u001b[0m \u001b[0mangleVelocity\u001b[0m\u001b[1;33m[\u001b[0m \u001b[0mi\u001b[0m \u001b[1;33m]\u001b[0m \u001b[1;33m)\u001b[0m \u001b[1;33m%\u001b[0m \u001b[1;36m360.0\u001b[0m \u001b[1;33m)\u001b[0m\u001b[1;33m\u001b[0m\u001b[0m\n\u001b[0;32m     37\u001b[0m         \u001b[0mk1LengthVelocity\u001b[0m \u001b[1;33m=\u001b[0m \u001b[0mTruncate\u001b[0m\u001b[1;33m(\u001b[0m \u001b[0mstep\u001b[0m \u001b[1;33m*\u001b[0m \u001b[0mLengthAcceleration\u001b[0m\u001b[1;33m(\u001b[0m \u001b[0mlength\u001b[0m\u001b[1;33m[\u001b[0m \u001b[0mi\u001b[0m \u001b[1;33m]\u001b[0m\u001b[1;33m,\u001b[0m \u001b[0mangle\u001b[0m\u001b[1;33m[\u001b[0m \u001b[0mi\u001b[0m \u001b[1;33m]\u001b[0m\u001b[1;33m,\u001b[0m \u001b[0mangleVelocity\u001b[0m\u001b[1;33m[\u001b[0m \u001b[0mi\u001b[0m \u001b[1;33m]\u001b[0m\u001b[1;33m,\u001b[0m \u001b[0mspringConstant\u001b[0m\u001b[1;33m,\u001b[0m \u001b[0mmass\u001b[0m\u001b[1;33m,\u001b[0m \u001b[0mgravity\u001b[0m\u001b[1;33m,\u001b[0m \u001b[0minitialLength\u001b[0m \u001b[1;33m)\u001b[0m \u001b[1;33m)\u001b[0m\u001b[1;33m\u001b[0m\u001b[0m\n\u001b[1;32m---> 38\u001b[1;33m         \u001b[0mk1AngleVelocity\u001b[0m \u001b[1;33m=\u001b[0m \u001b[0mTruncate\u001b[0m\u001b[1;33m(\u001b[0m \u001b[0mstep\u001b[0m \u001b[1;33m*\u001b[0m \u001b[0mAngleAcceleration\u001b[0m\u001b[1;33m(\u001b[0m \u001b[0mlength\u001b[0m\u001b[1;33m[\u001b[0m \u001b[0mi\u001b[0m \u001b[1;33m]\u001b[0m\u001b[1;33m,\u001b[0m \u001b[0mangle\u001b[0m\u001b[1;33m[\u001b[0m \u001b[0mi\u001b[0m \u001b[1;33m]\u001b[0m\u001b[1;33m,\u001b[0m \u001b[0mlengthVelocity\u001b[0m\u001b[1;33m[\u001b[0m \u001b[0mi\u001b[0m \u001b[1;33m]\u001b[0m\u001b[1;33m,\u001b[0m \u001b[0mangleVelocity\u001b[0m\u001b[1;33m[\u001b[0m \u001b[0mi\u001b[0m \u001b[1;33m]\u001b[0m\u001b[1;33m,\u001b[0m \u001b[0mgravity\u001b[0m \u001b[1;33m)\u001b[0m \u001b[1;33m)\u001b[0m\u001b[1;33m\u001b[0m\u001b[0m\n\u001b[0m\u001b[0;32m     39\u001b[0m         \u001b[1;31m#print( '</k1>' )\u001b[0m\u001b[1;33m\u001b[0m\u001b[1;33m\u001b[0m\u001b[0m\n\u001b[0;32m     40\u001b[0m         \u001b[1;31m#########################################\u001b[0m\u001b[1;33m\u001b[0m\u001b[1;33m\u001b[0m\u001b[0m\n",
      "\u001b[1;32m<ipython-input-26-f87bb772b748>\u001b[0m in \u001b[0;36mTruncate\u001b[1;34m(number, digits)\u001b[0m\n\u001b[0;32m     15\u001b[0m     \u001b[1;31m#    number = 1.0\u001b[0m\u001b[1;33m\u001b[0m\u001b[1;33m\u001b[0m\u001b[0m\n\u001b[0;32m     16\u001b[0m     \u001b[1;31m#print( number )\u001b[0m\u001b[1;33m\u001b[0m\u001b[1;33m\u001b[0m\u001b[0m\n\u001b[1;32m---> 17\u001b[1;33m     \u001b[1;32mreturn\u001b[0m \u001b[0mnp\u001b[0m\u001b[1;33m.\u001b[0m\u001b[0mfloat64\u001b[0m\u001b[1;33m(\u001b[0m \u001b[0mint\u001b[0m\u001b[1;33m(\u001b[0m \u001b[0mnumber\u001b[0m \u001b[1;33m)\u001b[0m \u001b[1;33m)\u001b[0m\u001b[1;33m\u001b[0m\u001b[0m\n\u001b[0m",
      "\u001b[1;31mValueError\u001b[0m: cannot convert float NaN to integer"
     ]
    }
   ],
   "source": [
    "Spring( 1, 1000 )"
   ]
  },
  {
   "cell_type": "code",
   "execution_count": null,
   "metadata": {},
   "outputs": [],
   "source": []
  }
 ],
 "metadata": {
  "kernelspec": {
   "display_name": "Python 3",
   "language": "python",
   "name": "python3"
  },
  "language_info": {
   "codemirror_mode": {
    "name": "ipython",
    "version": 3
   },
   "file_extension": ".py",
   "mimetype": "text/x-python",
   "name": "python",
   "nbconvert_exporter": "python",
   "pygments_lexer": "ipython3",
   "version": "3.6.5"
  }
 },
 "nbformat": 4,
 "nbformat_minor": 2
}
