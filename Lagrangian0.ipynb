{
 "cells": [
  {
   "cell_type": "code",
   "execution_count": 3,
   "metadata": {},
   "outputs": [],
   "source": [
    "import numpy as np\n",
    "import matplotlib.pyplot as plt"
   ]
  },
  {
   "cell_type": "code",
   "execution_count": 4,
   "metadata": {},
   "outputs": [],
   "source": [
    "def ExpandDivide2( arguments, constantIndex, rungieKutta ):\n",
    "    while i < constantIndex:\n",
    "        arguments[ i ] = rungieKutta( scalers[ i ] + rungieKutta( scalers[ i ] ) / 2.0 )\n",
    "\n",
    "def RungeKuttaOneOne( scaler, tolerence, function ):\n",
    "    return tolerence * function( scaler )\n",
    "\n",
    "def RungeKuttaOneTwo( scaler, tolerence, function ):\n",
    "    return tolerence * function( scaler + RungeKuttaOneOne( scaler, tolerence, function ) / 2.0 )\n",
    "\n",
    "def RungeKuttaOneThree( scaler, tolerence, function ):\n",
    "    return tolerence * function( scaler + RungeKuttaOneTwo( scaler, tolerence, function ) / 2.0 )\n",
    "\n",
    "def RungeKuttaOneFour( scaler, tolerence, function ):\n",
    "    return tolerence * function( scaler + RungeKuttaOneThree( scaler, tolerence, function ) )\n",
    "\n",
    "def RungeKuttaOneTaylor( scaler, tolerence, function ):\n",
    "    return ( ( 1.0 / 6.0 ) * ( RungeKuttaOneOne( scaler, tolerence, function ) + ( 2.0 * (\n",
    "                              RungeKuttaOneTwo( scaler, tolerence, function ) + \n",
    "                              RungeKuttaOneThree( scaler, tolerence, function ) ) ) + \n",
    "                              RungeKuttaOneFour( scaler, tolerence, function ) ) )\n",
    "\n",
    "def RungeKuttaOneVector( vector, tolerence, function, rungeKuttaFunction ):\n",
    "    resultVector = [ 0 ] * len( vector )\n",
    "    for i in range( len( vector ) ):\n",
    "        resultVector[ i ] = rungeKuttaFunction( vector[ i ], tolerence, function )\n",
    "    return resultVector"
   ]
  },
  {
   "cell_type": "code",
   "execution_count": 5,
   "metadata": {},
   "outputs": [],
   "source": [
    "def LengthVelocity( previousLengthVelocity ):\n",
    "    return previousLengthVelocity\n",
    "\n",
    "def AngleVelocity( previousAngleVelocity ):\n",
    "    return previousAngleVelocity\n",
    "\n",
    "def LengthAcceleration( length, angle, angleVelocity, springConstant, mass, gravity, initialLength ):\n",
    "    return length * ( angleVelocity ** 2 ) - ( springConstant / mass ) * length - initialLength + ( gravity * np.cos( angle ) )\n",
    "\n",
    "def AngleAcceleration( length, angle, lengthVelocity, angleVelocity, gravity ):\n",
    "    return ( ( -gravity ) / length ) * np.sin( angle ) - ( 2.0 / length ) * lengthVelocity * angleVelocity\n"
   ]
  },
  {
   "cell_type": "code",
   "execution_count": 6,
   "metadata": {},
   "outputs": [],
   "source": [
    "def Spring( step, timeEnd, mass = .04, springConstant = 100, initialLength = .3, initialAngle = .4, initialLengthVelocity = 0.0, initialAngleVelocity = 0.0 ):\n",
    "    gravity = 9.8\n",
    "    cells = int( np.ceil( timeEnd / step ) )\n",
    "    length = np.zeros( cells + 1 )\n",
    "    angle = np.zeros( cells + 1 )\n",
    "    lengthVelocity = np.zeros( cells + 1 )\n",
    "    angleVelocity = np.zeros( cells + 1 )\n",
    "    time = np.zeros( cells + 1 )\n",
    "    x = np.zeros( cells + 1 )\n",
    "    y = np.zeros( cells + 1 )\n",
    "    length[ 0 ] = initialLength\n",
    "    angle[ 0 ] = initialAngle\n",
    "    lengthVelocity[ 0 ] = initialLengthVelocity\n",
    "    angleVelocity[ 0 ] = initialAngleVelocity\n",
    "    x[ 0 ] = length[ 0 ] * np.sin( angle[ 0 ] )\n",
    "    y[ 0 ] = 1.0 - length[ 0 ] * np.cos( angle[ 0 ] )\n",
    "    for i in range( cells ):\n",
    "        RungeKuttaOneTaylor( lengthVelocity[ i ], step, )"
   ]
  },
  {
   "cell_type": "code",
   "execution_count": 7,
   "metadata": {},
   "outputs": [
    {
     "ename": "TypeError",
     "evalue": "RungeKuttaOneTaylor() missing 1 required positional argument: 'function'",
     "output_type": "error",
     "traceback": [
      "\u001b[1;31m---------------------------------------------------------------------------\u001b[0m",
      "\u001b[1;31mTypeError\u001b[0m                                 Traceback (most recent call last)",
      "\u001b[1;32m<ipython-input-7-9755af4b081c>\u001b[0m in \u001b[0;36m<module>\u001b[1;34m()\u001b[0m\n\u001b[1;32m----> 1\u001b[1;33m \u001b[0mSpring\u001b[0m\u001b[1;33m(\u001b[0m \u001b[1;36m1\u001b[0m\u001b[1;33m,\u001b[0m \u001b[1;36m1000\u001b[0m \u001b[1;33m)\u001b[0m\u001b[1;33m\u001b[0m\u001b[0m\n\u001b[0m",
      "\u001b[1;32m<ipython-input-6-3cbbd22eaafc>\u001b[0m in \u001b[0;36mSpring\u001b[1;34m(step, timeEnd, mass, springConstant, initialLength, initialAngle, initialLengthVelocity, initialAngleVelocity)\u001b[0m\n\u001b[0;32m     16\u001b[0m     \u001b[0my\u001b[0m\u001b[1;33m[\u001b[0m \u001b[1;36m0\u001b[0m \u001b[1;33m]\u001b[0m \u001b[1;33m=\u001b[0m \u001b[1;36m1.0\u001b[0m \u001b[1;33m-\u001b[0m \u001b[0mlength\u001b[0m\u001b[1;33m[\u001b[0m \u001b[1;36m0\u001b[0m \u001b[1;33m]\u001b[0m \u001b[1;33m*\u001b[0m \u001b[0mnp\u001b[0m\u001b[1;33m.\u001b[0m\u001b[0mcos\u001b[0m\u001b[1;33m(\u001b[0m \u001b[0mangle\u001b[0m\u001b[1;33m[\u001b[0m \u001b[1;36m0\u001b[0m \u001b[1;33m]\u001b[0m \u001b[1;33m)\u001b[0m\u001b[1;33m\u001b[0m\u001b[0m\n\u001b[0;32m     17\u001b[0m     \u001b[1;32mfor\u001b[0m \u001b[0mi\u001b[0m \u001b[1;32min\u001b[0m \u001b[0mrange\u001b[0m\u001b[1;33m(\u001b[0m \u001b[0mcells\u001b[0m \u001b[1;33m)\u001b[0m\u001b[1;33m:\u001b[0m\u001b[1;33m\u001b[0m\u001b[0m\n\u001b[1;32m---> 18\u001b[1;33m         \u001b[0mRungeKuttaOneTaylor\u001b[0m\u001b[1;33m(\u001b[0m \u001b[0mlengthVelocity\u001b[0m\u001b[1;33m[\u001b[0m \u001b[0mi\u001b[0m \u001b[1;33m]\u001b[0m\u001b[1;33m,\u001b[0m \u001b[0mstep\u001b[0m\u001b[1;33m,\u001b[0m \u001b[1;33m)\u001b[0m\u001b[1;33m\u001b[0m\u001b[0m\n\u001b[0m",
      "\u001b[1;31mTypeError\u001b[0m: RungeKuttaOneTaylor() missing 1 required positional argument: 'function'"
     ]
    }
   ],
   "source": [
    "Spring( 1, 1000 )"
   ]
  },
  {
   "cell_type": "code",
   "execution_count": null,
   "metadata": {},
   "outputs": [],
   "source": []
  },
  {
   "cell_type": "code",
   "execution_count": null,
   "metadata": {},
   "outputs": [],
   "source": []
  }
 ],
 "metadata": {
  "kernelspec": {
   "display_name": "Python 3",
   "language": "python",
   "name": "python3"
  },
  "language_info": {
   "codemirror_mode": {
    "name": "ipython",
    "version": 3
   },
   "file_extension": ".py",
   "mimetype": "text/x-python",
   "name": "python",
   "nbconvert_exporter": "python",
   "pygments_lexer": "ipython3",
   "version": "3.6.5"
  }
 },
 "nbformat": 4,
 "nbformat_minor": 2
}
