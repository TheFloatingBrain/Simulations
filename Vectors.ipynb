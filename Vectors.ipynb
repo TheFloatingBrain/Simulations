{
 "cells": [
  {
   "cell_type": "code",
   "execution_count": 359,
   "metadata": {},
   "outputs": [],
   "source": [
    "import numpy as np\n",
    "\n",
    "class Dimensional:\n",
    "    def __init__( self, dimensions_ = 3, initialValues = None, matrixMultiplication_ = False ):\n",
    "        self.dimensions = dimensions_\n",
    "        self.matrixMultiplication = matrixMultiplication_\n",
    "        if initialValues != None:\n",
    "            self.components = initialValues\n",
    "        else:\n",
    "            self.components = np.array( [ 0 ] * self.dimensions, np.float )\n",
    "    def SquareMagnitude( self ):\n",
    "        return ( self.components * self.components ).sum()\n",
    "    def Magnitude( self ):\n",
    "        return np.sqrt( self.SquareMagnitude() )\n",
    "    def DotProduct( self, other ):\n",
    "        if other.dimensions == self.dimensions:\n",
    "            return ( other.components * self.components ).sum()\n",
    "        return None\n",
    "    def AngleBetween( self, other ):\n",
    "        return np.arccos( np.divide( self.DotProduct( other ), np.multiply( other.Magnitude(), self.Magnitude() ) ) )\n",
    "    def CrossDeterminant( self, other ):\n",
    "        if other.dimensions == self.dimensions and ( self.dimensions == 7 or self.dimensions == 3 ):\n",
    "            return np.linalg.det( np.array( [ np.array( [ 1 ] * self.dimensions, np.float ), self.components, other.components ] ) )\n",
    "    def CrossProduct( self, other ):\n",
    "        if other.dimensions == self.dimensions and ( self.dimensions == 7 or self.dimensions == 3 ):\n",
    "            newVector = np.array( [ np.float( 0 ) ] * self.dimensions, np.float )\n",
    "            sign = np.float( -1 )\n",
    "            for i in range( 0, self.dimensions ):\n",
    "                iInitialized = False\n",
    "                for j in range( 0, self.dimensions ):\n",
    "                    for k in range( 0, other.dimensions ):\n",
    "                        #print( \"if \" + str( j ) + \" != \" + str( k ) + \" and (\" + str( j ) + \" != \" + str( i ) + \" and \" + str( k ) + \" != \" + str( i ) + \" )\" )\n",
    "                        if j != k and j != i and k != i:\n",
    "                            #print( ( str( newVector[ i ] ) + \", \" ) + str( self.components[ j ] * other.components[ k ] ) )\n",
    "                            if iInitialized == False:\n",
    "                                newVector[ i ] = self.components[ j ] * other.components[ k ] * sign\n",
    "                                iInitialized = True\n",
    "                            else:\n",
    "                                newVector[ i ] -= self.components[ j ] * other.components[ k ] * sign\n",
    "                                if sign < 0:\n",
    "                                    sign = np.float( 1 )\n",
    "                                else:\n",
    "                                    sign = np.float( -1 )\n",
    "            return newVector\n",
    "        return None\n",
    "    def __mul__( self, other ):\n",
    "        if type( other ) is Dimensional:\n",
    "            if self.matrixMultiplication == True:\n",
    "                return np.multiply( self.components, other.components )\n",
    "            return self.DotProduct( other )\n",
    "        else:\n",
    "            np.multiply( self.components, other )\n",
    "    def __div__( self, other ):\n",
    "        return np.divide( self.components, other )\n",
    "    def __add__( self, other ):\n",
    "        return np.add( other )\n",
    "    def __sub__( self, other ):\n",
    "        return np.sub( other )\n",
    "    def __imul__( self, other ):\n",
    "        self.components = ( self * other )\n",
    "        return self.components\n",
    "    def __idiv__( self, other ):\n",
    "        self.components = ( self / other )\n",
    "        return self.components\n",
    "    def __iadd__( self, other ):\n",
    "        self.components = ( self + other )\n",
    "        return self.components\n",
    "    def __isub__( self, other ):\n",
    "        self.components = ( self - other )\n",
    "        return self.components\n",
    "    def __neg__( self ):\n",
    "        return -self.components\n",
    "    def __pos__( self ):\n",
    "        return np.abs( self.components )\n",
    "    \n",
    "Vector = Dimensional"
   ]
  },
  {
   "cell_type": "code",
   "execution_count": 348,
   "metadata": {},
   "outputs": [
    {
     "data": {
      "text/plain": [
       "array([0., 0., 0.])"
      ]
     },
     "execution_count": 348,
     "metadata": {},
     "output_type": "execute_result"
    }
   ],
   "source": [
    "v = Dimensional()\n",
    "v.components"
   ]
  },
  {
   "cell_type": "code",
   "execution_count": 349,
   "metadata": {},
   "outputs": [
    {
     "data": {
      "text/plain": [
       "3.7416573867739413"
      ]
     },
     "execution_count": 349,
     "metadata": {},
     "output_type": "execute_result"
    }
   ],
   "source": [
    "v.components[ 0 ] = np.float( 1 )\n",
    "v.components[ 1 ] = np.float( 2 )\n",
    "v.components[ 2 ] = np.float( 3 )\n",
    "v.Magnitude()"
   ]
  },
  {
   "cell_type": "code",
   "execution_count": 350,
   "metadata": {},
   "outputs": [
    {
     "data": {
      "text/plain": [
       "array([1., 2., 3.])"
      ]
     },
     "execution_count": 350,
     "metadata": {},
     "output_type": "execute_result"
    }
   ],
   "source": [
    "v.components"
   ]
  },
  {
   "cell_type": "code",
   "execution_count": 351,
   "metadata": {},
   "outputs": [],
   "source": [
    "b = Dimensional()"
   ]
  },
  {
   "cell_type": "code",
   "execution_count": 352,
   "metadata": {},
   "outputs": [
    {
     "data": {
      "text/plain": [
       "8.774964387392123"
      ]
     },
     "execution_count": 352,
     "metadata": {},
     "output_type": "execute_result"
    }
   ],
   "source": [
    "b.components[ 0 ] = np.float( 4 )\n",
    "b.components[ 1 ] = np.float( 5 )\n",
    "b.components[ 2 ] = np.float( 6 )\n",
    "b.Magnitude()"
   ]
  },
  {
   "cell_type": "code",
   "execution_count": 353,
   "metadata": {},
   "outputs": [
    {
     "data": {
      "text/plain": [
       "32.0"
      ]
     },
     "execution_count": 353,
     "metadata": {},
     "output_type": "execute_result"
    }
   ],
   "source": [
    "v.DotProduct( b )"
   ]
  },
  {
   "cell_type": "code",
   "execution_count": 354,
   "metadata": {},
   "outputs": [
    {
     "data": {
      "text/plain": [
       "array([4., 5., 6.])"
      ]
     },
     "execution_count": 354,
     "metadata": {},
     "output_type": "execute_result"
    }
   ],
   "source": [
    "b.components"
   ]
  },
  {
   "cell_type": "code",
   "execution_count": 355,
   "metadata": {},
   "outputs": [
    {
     "data": {
      "text/plain": [
       "array([1., 2., 3.])"
      ]
     },
     "execution_count": 355,
     "metadata": {},
     "output_type": "execute_result"
    }
   ],
   "source": [
    "v.components"
   ]
  },
  {
   "cell_type": "code",
   "execution_count": 356,
   "metadata": {},
   "outputs": [
    {
     "data": {
      "text/plain": [
       "0.2257261285527342"
      ]
     },
     "execution_count": 356,
     "metadata": {},
     "output_type": "execute_result"
    }
   ],
   "source": [
    "v.AngleBetween( b )"
   ]
  },
  {
   "cell_type": "code",
   "execution_count": 357,
   "metadata": {},
   "outputs": [
    {
     "data": {
      "text/plain": [
       "array([-3.,  6., -3.])"
      ]
     },
     "execution_count": 357,
     "metadata": {},
     "output_type": "execute_result"
    }
   ],
   "source": [
    "b.CrossProduct( v )"
   ]
  },
  {
   "cell_type": "code",
   "execution_count": 358,
   "metadata": {},
   "outputs": [
    {
     "data": {
      "text/plain": [
       "0.0"
      ]
     },
     "execution_count": 358,
     "metadata": {},
     "output_type": "execute_result"
    }
   ],
   "source": [
    "np.linalg.det( np.array( [ np.array( [ 1 ] * 3, np.float ), v.components, b.components ] ) )"
   ]
  },
  {
   "cell_type": "code",
   "execution_count": null,
   "metadata": {},
   "outputs": [],
   "source": []
  },
  {
   "cell_type": "code",
   "execution_count": null,
   "metadata": {},
   "outputs": [],
   "source": []
  },
  {
   "cell_type": "code",
   "execution_count": null,
   "metadata": {},
   "outputs": [],
   "source": []
  },
  {
   "cell_type": "code",
   "execution_count": null,
   "metadata": {},
   "outputs": [],
   "source": []
  }
 ],
 "metadata": {
  "kernelspec": {
   "display_name": "Python 3",
   "language": "python",
   "name": "python3"
  },
  "language_info": {
   "codemirror_mode": {
    "name": "ipython",
    "version": 3
   },
   "file_extension": ".py",
   "mimetype": "text/x-python",
   "name": "python",
   "nbconvert_exporter": "python",
   "pygments_lexer": "ipython3",
   "version": "3.6.5"
  }
 },
 "nbformat": 4,
 "nbformat_minor": 2
}
